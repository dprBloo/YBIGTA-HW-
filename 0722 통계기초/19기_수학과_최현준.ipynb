{
  "nbformat": 4,
  "nbformat_minor": 0,
  "metadata": {
    "kernelspec": {
      "display_name": "Python 3",
      "language": "python",
      "name": "python3"
    },
    "language_info": {
      "codemirror_mode": {
        "name": "ipython",
        "version": 3
      },
      "file_extension": ".py",
      "mimetype": "text/x-python",
      "name": "python",
      "nbconvert_exporter": "python",
      "pygments_lexer": "ipython3",
      "version": "3.7.4"
    },
    "colab": {
      "name": "19기_수학과_최현준.ipynb",
      "provenance": [],
      "collapsed_sections": []
    }
  },
  "cells": [
    {
      "cell_type": "markdown",
      "metadata": {
        "id": "eU9gqjFNLzn_"
      },
      "source": [
        "# 회귀분석 과제\n",
        "22 July 2021(Thu)\n",
        "\n",
        "---\n",
        "\n",
        "제출 형식: 본인 Github에 다음과 같은 파일명으로 두 개의 파일을 업로드하시면 됩니다.  \n",
        "- 19기_학과명_이름.ipynb  \n",
        "- graduate_submission.csv"
      ]
    },
    {
      "cell_type": "markdown",
      "metadata": {
        "id": "lI_Syv8WPOY-"
      },
      "source": [
        "# 구글 드라이브 mount **(Colab을 사용하는 경우에만 해당)**\n",
        "Jupyter Notebook을 사용하시는 경우 이 부분은 무시하고 진행하시면 됩니다."
      ]
    },
    {
      "cell_type": "code",
      "metadata": {
        "id": "B9EBLKXCtpjH",
        "colab": {
          "base_uri": "https://localhost:8080/"
        },
        "outputId": "13745e33-def0-45be-d52d-bf0cbacb586f"
      },
      "source": [
        "from google.colab import drive\n",
        "drive.mount('/content/gdrive')"
      ],
      "execution_count": 1,
      "outputs": [
        {
          "output_type": "stream",
          "text": [
            "Mounted at /content/gdrive\n"
          ],
          "name": "stdout"
        }
      ]
    },
    {
      "cell_type": "markdown",
      "metadata": {
        "id": "No9fyWe9LzoI"
      },
      "source": [
        "# 목표: 대학원 합격 확률 및 합격 여부 예측\n",
        "\n",
        "- 회귀: 학습 데이터로 선형 회귀, Ridge, Lasso를 통해 학습시켜 봅시다.\n",
        "\n",
        "완성된 모델로 테스트 데이터의 **합격 여부**를 예측해보세요. (합격 여부를 예측하는 것은 분류 문제입니다.)  \n",
        "아래의 빈칸(코드+서술 답안)을 모두 채워 넣어주시면 됩니다.  \n",
        "\"## TODO\"라고 적힌 부분에는 코드를 작성하여 주시고, \"A.\"라고 적힌 부분에는 서술 답안을 작성하여 주세요.  \n",
        "이를 모두 완성한 **(1) ipynb 파일**과 최종 예측을  **(2) csv 파일**로 저장하여 본인 Github에 업로드하시면 됩니다."
      ]
    },
    {
      "cell_type": "code",
      "metadata": {
        "id": "CxB8Z4zKLzoJ"
      },
      "source": [
        "# 패키지 불러오기\n",
        "import numpy as np\n",
        "import pandas as pd\n",
        "import seaborn as sns\n",
        "import matplotlib.pyplot as plt"
      ],
      "execution_count": 2,
      "outputs": []
    },
    {
      "cell_type": "code",
      "metadata": {
        "id": "32d8uA69LzoK"
      },
      "source": [
        "# 경고 무시\n",
        "import warnings\n",
        "warnings.filterwarnings(action='ignore')"
      ],
      "execution_count": 3,
      "outputs": []
    },
    {
      "cell_type": "markdown",
      "metadata": {
        "id": "gAsUjAOALzoK"
      },
      "source": [
        "# 데이터 로드 및 확인\n",
        "graduate_train.csv 파일과 graduate_test.csv 파일을 My Drive에 넣어주세요.  \n",
        "(Jupyter Notebook을 사용하시는 경우에는 graduate_train.csv 파일과 graduate_test.csv 파일 경로를 각각의 로컬 디렉토리 위치로 변경해주세요.)"
      ]
    },
    {
      "cell_type": "code",
      "metadata": {
        "id": "VYP-y9K9LzoK",
        "colab": {
          "base_uri": "https://localhost:8080/",
          "height": 376
        },
        "outputId": "2a69febc-a778-488e-eff4-15dee31e75c4"
      },
      "source": [
        "# train 데이터 불러오기\n",
        "df = pd.read_csv(\"/content/gdrive/My Drive/graduate_train.csv\")\n",
        "\n",
        "# train 데이터 크기 확인\n",
        "print(\"data size:\", df.shape)\n",
        "\n",
        "# train 데이터 훑어보기\n",
        "df.head(10)"
      ],
      "execution_count": 4,
      "outputs": [
        {
          "output_type": "stream",
          "text": [
            "data size: (400, 8)\n"
          ],
          "name": "stdout"
        },
        {
          "output_type": "execute_result",
          "data": {
            "text/html": [
              "<div>\n",
              "<style scoped>\n",
              "    .dataframe tbody tr th:only-of-type {\n",
              "        vertical-align: middle;\n",
              "    }\n",
              "\n",
              "    .dataframe tbody tr th {\n",
              "        vertical-align: top;\n",
              "    }\n",
              "\n",
              "    .dataframe thead th {\n",
              "        text-align: right;\n",
              "    }\n",
              "</style>\n",
              "<table border=\"1\" class=\"dataframe\">\n",
              "  <thead>\n",
              "    <tr style=\"text-align: right;\">\n",
              "      <th></th>\n",
              "      <th>GRE Score</th>\n",
              "      <th>TOEFL Score</th>\n",
              "      <th>University Rating</th>\n",
              "      <th>SOP</th>\n",
              "      <th>LOR</th>\n",
              "      <th>CGPA</th>\n",
              "      <th>Research</th>\n",
              "      <th>Chance of Admit</th>\n",
              "    </tr>\n",
              "  </thead>\n",
              "  <tbody>\n",
              "    <tr>\n",
              "      <th>0</th>\n",
              "      <td>310</td>\n",
              "      <td>105</td>\n",
              "      <td>2</td>\n",
              "      <td>3.0</td>\n",
              "      <td>3.5</td>\n",
              "      <td>8.01</td>\n",
              "      <td>No</td>\n",
              "      <td>0.71</td>\n",
              "    </tr>\n",
              "    <tr>\n",
              "      <th>1</th>\n",
              "      <td>307</td>\n",
              "      <td>105</td>\n",
              "      <td>2</td>\n",
              "      <td>2.5</td>\n",
              "      <td>4.5</td>\n",
              "      <td>8.12</td>\n",
              "      <td>Yes</td>\n",
              "      <td>0.67</td>\n",
              "    </tr>\n",
              "    <tr>\n",
              "      <th>2</th>\n",
              "      <td>329</td>\n",
              "      <td>111</td>\n",
              "      <td>4</td>\n",
              "      <td>4.5</td>\n",
              "      <td>4.0</td>\n",
              "      <td>9.01</td>\n",
              "      <td>Yes</td>\n",
              "      <td>0.81</td>\n",
              "    </tr>\n",
              "    <tr>\n",
              "      <th>3</th>\n",
              "      <td>300</td>\n",
              "      <td>105</td>\n",
              "      <td>1</td>\n",
              "      <td>1.0</td>\n",
              "      <td>2.0</td>\n",
              "      <td>7.80</td>\n",
              "      <td>No</td>\n",
              "      <td>0.58</td>\n",
              "    </tr>\n",
              "    <tr>\n",
              "      <th>4</th>\n",
              "      <td>329</td>\n",
              "      <td>114</td>\n",
              "      <td>5</td>\n",
              "      <td>4.0</td>\n",
              "      <td>5.0</td>\n",
              "      <td>9.30</td>\n",
              "      <td>Yes</td>\n",
              "      <td>0.86</td>\n",
              "    </tr>\n",
              "    <tr>\n",
              "      <th>5</th>\n",
              "      <td>300</td>\n",
              "      <td>104</td>\n",
              "      <td>3</td>\n",
              "      <td>3.5</td>\n",
              "      <td>3.0</td>\n",
              "      <td>8.16</td>\n",
              "      <td>No</td>\n",
              "      <td>0.71</td>\n",
              "    </tr>\n",
              "    <tr>\n",
              "      <th>6</th>\n",
              "      <td>318</td>\n",
              "      <td>103</td>\n",
              "      <td>3</td>\n",
              "      <td>4.0</td>\n",
              "      <td>4.5</td>\n",
              "      <td>8.49</td>\n",
              "      <td>Yes</td>\n",
              "      <td>0.71</td>\n",
              "    </tr>\n",
              "    <tr>\n",
              "      <th>7</th>\n",
              "      <td>322</td>\n",
              "      <td>110</td>\n",
              "      <td>4</td>\n",
              "      <td>4.0</td>\n",
              "      <td>5.0</td>\n",
              "      <td>9.13</td>\n",
              "      <td>Yes</td>\n",
              "      <td>0.86</td>\n",
              "    </tr>\n",
              "    <tr>\n",
              "      <th>8</th>\n",
              "      <td>315</td>\n",
              "      <td>105</td>\n",
              "      <td>2</td>\n",
              "      <td>2.0</td>\n",
              "      <td>2.5</td>\n",
              "      <td>7.65</td>\n",
              "      <td>No</td>\n",
              "      <td>0.39</td>\n",
              "    </tr>\n",
              "    <tr>\n",
              "      <th>9</th>\n",
              "      <td>332</td>\n",
              "      <td>119</td>\n",
              "      <td>4</td>\n",
              "      <td>5.0</td>\n",
              "      <td>4.5</td>\n",
              "      <td>9.24</td>\n",
              "      <td>Yes</td>\n",
              "      <td>0.90</td>\n",
              "    </tr>\n",
              "  </tbody>\n",
              "</table>\n",
              "</div>"
            ],
            "text/plain": [
              "   GRE Score  TOEFL Score  University Rating  ...  CGPA  Research  Chance of Admit\n",
              "0        310          105                  2  ...  8.01        No             0.71\n",
              "1        307          105                  2  ...  8.12       Yes             0.67\n",
              "2        329          111                  4  ...  9.01       Yes             0.81\n",
              "3        300          105                  1  ...  7.80        No             0.58\n",
              "4        329          114                  5  ...  9.30       Yes             0.86\n",
              "5        300          104                  3  ...  8.16        No             0.71\n",
              "6        318          103                  3  ...  8.49       Yes             0.71\n",
              "7        322          110                  4  ...  9.13       Yes             0.86\n",
              "8        315          105                  2  ...  7.65        No             0.39\n",
              "9        332          119                  4  ...  9.24       Yes             0.90\n",
              "\n",
              "[10 rows x 8 columns]"
            ]
          },
          "metadata": {
            "tags": []
          },
          "execution_count": 4
        }
      ]
    },
    {
      "cell_type": "code",
      "metadata": {
        "scrolled": false,
        "id": "kv3NdZusLzoL",
        "colab": {
          "base_uri": "https://localhost:8080/",
          "height": 376
        },
        "outputId": "35222c4b-052d-4d54-9165-ea1e9121458c"
      },
      "source": [
        "# test 데이터 불러오기\n",
        "test = pd.read_csv(\"/content/gdrive/My Drive/graduate_test.csv\")\n",
        "\n",
        "# test 데이터 크기 확인\n",
        "print(\"data size:\", test.shape)\n",
        "\n",
        "# test 데이터 훑어보기\n",
        "test.head(10)\n",
        "\n",
        "# test 데이터에는 'Chance of Admit'이 없습니다. 이 확률을 예측해보는 것이 과제입니다."
      ],
      "execution_count": 5,
      "outputs": [
        {
          "output_type": "stream",
          "text": [
            "data size: (100, 7)\n"
          ],
          "name": "stdout"
        },
        {
          "output_type": "execute_result",
          "data": {
            "text/html": [
              "<div>\n",
              "<style scoped>\n",
              "    .dataframe tbody tr th:only-of-type {\n",
              "        vertical-align: middle;\n",
              "    }\n",
              "\n",
              "    .dataframe tbody tr th {\n",
              "        vertical-align: top;\n",
              "    }\n",
              "\n",
              "    .dataframe thead th {\n",
              "        text-align: right;\n",
              "    }\n",
              "</style>\n",
              "<table border=\"1\" class=\"dataframe\">\n",
              "  <thead>\n",
              "    <tr style=\"text-align: right;\">\n",
              "      <th></th>\n",
              "      <th>GRE Score</th>\n",
              "      <th>TOEFL Score</th>\n",
              "      <th>University Rating</th>\n",
              "      <th>SOP</th>\n",
              "      <th>LOR</th>\n",
              "      <th>CGPA</th>\n",
              "      <th>Research</th>\n",
              "    </tr>\n",
              "  </thead>\n",
              "  <tbody>\n",
              "    <tr>\n",
              "      <th>0</th>\n",
              "      <td>304</td>\n",
              "      <td>103</td>\n",
              "      <td>5</td>\n",
              "      <td>5.0</td>\n",
              "      <td>4.0</td>\n",
              "      <td>8.64</td>\n",
              "      <td>No</td>\n",
              "    </tr>\n",
              "    <tr>\n",
              "      <th>1</th>\n",
              "      <td>297</td>\n",
              "      <td>96</td>\n",
              "      <td>2</td>\n",
              "      <td>2.5</td>\n",
              "      <td>1.5</td>\n",
              "      <td>7.89</td>\n",
              "      <td>No</td>\n",
              "    </tr>\n",
              "    <tr>\n",
              "      <th>2</th>\n",
              "      <td>302</td>\n",
              "      <td>101</td>\n",
              "      <td>2</td>\n",
              "      <td>2.5</td>\n",
              "      <td>3.5</td>\n",
              "      <td>7.96</td>\n",
              "      <td>No</td>\n",
              "    </tr>\n",
              "    <tr>\n",
              "      <th>3</th>\n",
              "      <td>318</td>\n",
              "      <td>112</td>\n",
              "      <td>3</td>\n",
              "      <td>4.0</td>\n",
              "      <td>3.5</td>\n",
              "      <td>8.67</td>\n",
              "      <td>No</td>\n",
              "    </tr>\n",
              "    <tr>\n",
              "      <th>4</th>\n",
              "      <td>304</td>\n",
              "      <td>100</td>\n",
              "      <td>4</td>\n",
              "      <td>1.5</td>\n",
              "      <td>2.5</td>\n",
              "      <td>7.84</td>\n",
              "      <td>No</td>\n",
              "    </tr>\n",
              "    <tr>\n",
              "      <th>5</th>\n",
              "      <td>330</td>\n",
              "      <td>116</td>\n",
              "      <td>4</td>\n",
              "      <td>5.0</td>\n",
              "      <td>4.5</td>\n",
              "      <td>9.45</td>\n",
              "      <td>Yes</td>\n",
              "    </tr>\n",
              "    <tr>\n",
              "      <th>6</th>\n",
              "      <td>315</td>\n",
              "      <td>110</td>\n",
              "      <td>2</td>\n",
              "      <td>3.5</td>\n",
              "      <td>3.0</td>\n",
              "      <td>8.46</td>\n",
              "      <td>Yes</td>\n",
              "    </tr>\n",
              "    <tr>\n",
              "      <th>7</th>\n",
              "      <td>317</td>\n",
              "      <td>107</td>\n",
              "      <td>3</td>\n",
              "      <td>4.0</td>\n",
              "      <td>3.0</td>\n",
              "      <td>8.70</td>\n",
              "      <td>No</td>\n",
              "    </tr>\n",
              "    <tr>\n",
              "      <th>8</th>\n",
              "      <td>330</td>\n",
              "      <td>114</td>\n",
              "      <td>3</td>\n",
              "      <td>4.5</td>\n",
              "      <td>4.5</td>\n",
              "      <td>9.24</td>\n",
              "      <td>Yes</td>\n",
              "    </tr>\n",
              "    <tr>\n",
              "      <th>9</th>\n",
              "      <td>323</td>\n",
              "      <td>111</td>\n",
              "      <td>5</td>\n",
              "      <td>4.0</td>\n",
              "      <td>5.0</td>\n",
              "      <td>9.86</td>\n",
              "      <td>Yes</td>\n",
              "    </tr>\n",
              "  </tbody>\n",
              "</table>\n",
              "</div>"
            ],
            "text/plain": [
              "   GRE Score  TOEFL Score  University Rating  SOP  LOR  CGPA Research\n",
              "0        304          103                  5  5.0  4.0  8.64       No\n",
              "1        297           96                  2  2.5  1.5  7.89       No\n",
              "2        302          101                  2  2.5  3.5  7.96       No\n",
              "3        318          112                  3  4.0  3.5  8.67       No\n",
              "4        304          100                  4  1.5  2.5  7.84       No\n",
              "5        330          116                  4  5.0  4.5  9.45      Yes\n",
              "6        315          110                  2  3.5  3.0  8.46      Yes\n",
              "7        317          107                  3  4.0  3.0  8.70       No\n",
              "8        330          114                  3  4.5  4.5  9.24      Yes\n",
              "9        323          111                  5  4.0  5.0  9.86      Yes"
            ]
          },
          "metadata": {
            "tags": []
          },
          "execution_count": 5
        }
      ]
    },
    {
      "cell_type": "markdown",
      "metadata": {
        "id": "6ExYVssaLzoL"
      },
      "source": [
        "# 1. 결측치"
      ]
    },
    {
      "cell_type": "markdown",
      "metadata": {
        "id": "6q8hhS-ULzoL"
      },
      "source": [
        "데이터에 결측치가 있는지 확인해보세요."
      ]
    },
    {
      "cell_type": "code",
      "metadata": {
        "id": "mxSoKLulLzoL",
        "colab": {
          "base_uri": "https://localhost:8080/"
        },
        "outputId": "88e5aade-d019-4652-b2ea-c276cbc87c3f"
      },
      "source": [
        "df.isnull().sum().sort_values(ascending=True)"
      ],
      "execution_count": 6,
      "outputs": [
        {
          "output_type": "execute_result",
          "data": {
            "text/plain": [
              "GRE Score            0\n",
              "TOEFL Score          0\n",
              "University Rating    0\n",
              "SOP                  0\n",
              "LOR                  0\n",
              "CGPA                 0\n",
              "Research             0\n",
              "Chance of Admit      0\n",
              "dtype: int64"
            ]
          },
          "metadata": {
            "tags": []
          },
          "execution_count": 6
        }
      ]
    },
    {
      "cell_type": "code",
      "metadata": {
        "colab": {
          "base_uri": "https://localhost:8080/"
        },
        "id": "LCMcIE3gsZTr",
        "outputId": "8db98775-191e-433e-b054-60937cf4993c"
      },
      "source": [
        "test.isnull().sum().sort_values(ascending=True)"
      ],
      "execution_count": 7,
      "outputs": [
        {
          "output_type": "execute_result",
          "data": {
            "text/plain": [
              "GRE Score            0\n",
              "TOEFL Score          0\n",
              "University Rating    0\n",
              "SOP                  0\n",
              "LOR                  0\n",
              "CGPA                 0\n",
              "Research             0\n",
              "dtype: int64"
            ]
          },
          "metadata": {
            "tags": []
          },
          "execution_count": 7
        }
      ]
    },
    {
      "cell_type": "markdown",
      "metadata": {
        "id": "tymuetEVLzoM"
      },
      "source": [
        "Q. 데이터에 결측치가 있나요? 어떤 방법으로 처리하였나요?  \n",
        "A. 결측치가 없습니다. "
      ]
    },
    {
      "cell_type": "markdown",
      "metadata": {
        "id": "2EQrNaMzLzoM"
      },
      "source": [
        "# 2. 범주형 변수"
      ]
    },
    {
      "cell_type": "markdown",
      "metadata": {
        "id": "ukXfwUXwLzoM"
      },
      "source": [
        "설명변수 중 범주형 변수가 존재하나요?  \n",
        "존재한다면 어떻게 처리해주어야 할까요?  \n",
        "**학습 데이터를 수정하는 경우 테스트 데이터도 그에 맞게 수정해주어야 된다는 점에 유의하세요.**"
      ]
    },
    {
      "cell_type": "code",
      "metadata": {
        "id": "ctkoPnBFLzoM",
        "colab": {
          "base_uri": "https://localhost:8080/"
        },
        "outputId": "612d24a1-a961-4b61-9abd-d587b749eb3e"
      },
      "source": [
        "df.dtypes"
      ],
      "execution_count": 8,
      "outputs": [
        {
          "output_type": "execute_result",
          "data": {
            "text/plain": [
              "GRE Score              int64\n",
              "TOEFL Score            int64\n",
              "University Rating      int64\n",
              "SOP                  float64\n",
              "LOR                  float64\n",
              "CGPA                 float64\n",
              "Research              object\n",
              "Chance of Admit      float64\n",
              "dtype: object"
            ]
          },
          "metadata": {
            "tags": []
          },
          "execution_count": 8
        }
      ]
    },
    {
      "cell_type": "code",
      "metadata": {
        "colab": {
          "base_uri": "https://localhost:8080/",
          "height": 359
        },
        "id": "4OVd3jjGtRsc",
        "outputId": "9e5fb7ca-117d-4ad8-c644-e0c433bcfcff"
      },
      "source": [
        "df_dum = pd.get_dummies(df)\n",
        "df_dum.head(10)"
      ],
      "execution_count": 16,
      "outputs": [
        {
          "output_type": "execute_result",
          "data": {
            "text/html": [
              "<div>\n",
              "<style scoped>\n",
              "    .dataframe tbody tr th:only-of-type {\n",
              "        vertical-align: middle;\n",
              "    }\n",
              "\n",
              "    .dataframe tbody tr th {\n",
              "        vertical-align: top;\n",
              "    }\n",
              "\n",
              "    .dataframe thead th {\n",
              "        text-align: right;\n",
              "    }\n",
              "</style>\n",
              "<table border=\"1\" class=\"dataframe\">\n",
              "  <thead>\n",
              "    <tr style=\"text-align: right;\">\n",
              "      <th></th>\n",
              "      <th>GRE Score</th>\n",
              "      <th>TOEFL Score</th>\n",
              "      <th>University Rating</th>\n",
              "      <th>SOP</th>\n",
              "      <th>LOR</th>\n",
              "      <th>CGPA</th>\n",
              "      <th>Chance of Admit</th>\n",
              "      <th>Research_No</th>\n",
              "      <th>Research_Yes</th>\n",
              "    </tr>\n",
              "  </thead>\n",
              "  <tbody>\n",
              "    <tr>\n",
              "      <th>0</th>\n",
              "      <td>310</td>\n",
              "      <td>105</td>\n",
              "      <td>2</td>\n",
              "      <td>3.0</td>\n",
              "      <td>3.5</td>\n",
              "      <td>8.01</td>\n",
              "      <td>0.71</td>\n",
              "      <td>1</td>\n",
              "      <td>0</td>\n",
              "    </tr>\n",
              "    <tr>\n",
              "      <th>1</th>\n",
              "      <td>307</td>\n",
              "      <td>105</td>\n",
              "      <td>2</td>\n",
              "      <td>2.5</td>\n",
              "      <td>4.5</td>\n",
              "      <td>8.12</td>\n",
              "      <td>0.67</td>\n",
              "      <td>0</td>\n",
              "      <td>1</td>\n",
              "    </tr>\n",
              "    <tr>\n",
              "      <th>2</th>\n",
              "      <td>329</td>\n",
              "      <td>111</td>\n",
              "      <td>4</td>\n",
              "      <td>4.5</td>\n",
              "      <td>4.0</td>\n",
              "      <td>9.01</td>\n",
              "      <td>0.81</td>\n",
              "      <td>0</td>\n",
              "      <td>1</td>\n",
              "    </tr>\n",
              "    <tr>\n",
              "      <th>3</th>\n",
              "      <td>300</td>\n",
              "      <td>105</td>\n",
              "      <td>1</td>\n",
              "      <td>1.0</td>\n",
              "      <td>2.0</td>\n",
              "      <td>7.80</td>\n",
              "      <td>0.58</td>\n",
              "      <td>1</td>\n",
              "      <td>0</td>\n",
              "    </tr>\n",
              "    <tr>\n",
              "      <th>4</th>\n",
              "      <td>329</td>\n",
              "      <td>114</td>\n",
              "      <td>5</td>\n",
              "      <td>4.0</td>\n",
              "      <td>5.0</td>\n",
              "      <td>9.30</td>\n",
              "      <td>0.86</td>\n",
              "      <td>0</td>\n",
              "      <td>1</td>\n",
              "    </tr>\n",
              "    <tr>\n",
              "      <th>5</th>\n",
              "      <td>300</td>\n",
              "      <td>104</td>\n",
              "      <td>3</td>\n",
              "      <td>3.5</td>\n",
              "      <td>3.0</td>\n",
              "      <td>8.16</td>\n",
              "      <td>0.71</td>\n",
              "      <td>1</td>\n",
              "      <td>0</td>\n",
              "    </tr>\n",
              "    <tr>\n",
              "      <th>6</th>\n",
              "      <td>318</td>\n",
              "      <td>103</td>\n",
              "      <td>3</td>\n",
              "      <td>4.0</td>\n",
              "      <td>4.5</td>\n",
              "      <td>8.49</td>\n",
              "      <td>0.71</td>\n",
              "      <td>0</td>\n",
              "      <td>1</td>\n",
              "    </tr>\n",
              "    <tr>\n",
              "      <th>7</th>\n",
              "      <td>322</td>\n",
              "      <td>110</td>\n",
              "      <td>4</td>\n",
              "      <td>4.0</td>\n",
              "      <td>5.0</td>\n",
              "      <td>9.13</td>\n",
              "      <td>0.86</td>\n",
              "      <td>0</td>\n",
              "      <td>1</td>\n",
              "    </tr>\n",
              "    <tr>\n",
              "      <th>8</th>\n",
              "      <td>315</td>\n",
              "      <td>105</td>\n",
              "      <td>2</td>\n",
              "      <td>2.0</td>\n",
              "      <td>2.5</td>\n",
              "      <td>7.65</td>\n",
              "      <td>0.39</td>\n",
              "      <td>1</td>\n",
              "      <td>0</td>\n",
              "    </tr>\n",
              "    <tr>\n",
              "      <th>9</th>\n",
              "      <td>332</td>\n",
              "      <td>119</td>\n",
              "      <td>4</td>\n",
              "      <td>5.0</td>\n",
              "      <td>4.5</td>\n",
              "      <td>9.24</td>\n",
              "      <td>0.90</td>\n",
              "      <td>0</td>\n",
              "      <td>1</td>\n",
              "    </tr>\n",
              "  </tbody>\n",
              "</table>\n",
              "</div>"
            ],
            "text/plain": [
              "   GRE Score  TOEFL Score  ...  Research_No  Research_Yes\n",
              "0        310          105  ...            1             0\n",
              "1        307          105  ...            0             1\n",
              "2        329          111  ...            0             1\n",
              "3        300          105  ...            1             0\n",
              "4        329          114  ...            0             1\n",
              "5        300          104  ...            1             0\n",
              "6        318          103  ...            0             1\n",
              "7        322          110  ...            0             1\n",
              "8        315          105  ...            1             0\n",
              "9        332          119  ...            0             1\n",
              "\n",
              "[10 rows x 9 columns]"
            ]
          },
          "metadata": {
            "tags": []
          },
          "execution_count": 16
        }
      ]
    },
    {
      "cell_type": "code",
      "metadata": {
        "id": "jal6GEncuTl8"
      },
      "source": [
        "df_dum = pd.get_dummies(df)\n",
        "df=df_dum"
      ],
      "execution_count": 30,
      "outputs": []
    },
    {
      "cell_type": "markdown",
      "metadata": {
        "id": "RvuamBECLzoN"
      },
      "source": [
        "Q. 어떤 변수가 범주형인가요? 어떻게 처리해 주었나요?  \n",
        "A. Research 변수가 Yes, No로 범주형이었기에 수치형으로 바꿨습니다."
      ]
    },
    {
      "cell_type": "markdown",
      "metadata": {
        "id": "ELLpIte3LzoN"
      },
      "source": [
        "# 3. 선형(Linear) 회귀"
      ]
    },
    {
      "cell_type": "code",
      "metadata": {
        "id": "go7iVXmaLzoN"
      },
      "source": [
        "# 먼저 데이터를 설명변수와 종속변수로 분리합니다.\n",
        "X = df.drop('Chance of Admit', axis=1)\n",
        "y = df['Chance of Admit']"
      ],
      "execution_count": 31,
      "outputs": []
    },
    {
      "cell_type": "code",
      "metadata": {
        "colab": {
          "base_uri": "https://localhost:8080/",
          "height": 419
        },
        "id": "4JEtZSQfilK5",
        "outputId": "6157ae28-1156-488c-acec-b6c99989ba7c"
      },
      "source": [
        "X"
      ],
      "execution_count": 32,
      "outputs": [
        {
          "output_type": "execute_result",
          "data": {
            "text/html": [
              "<div>\n",
              "<style scoped>\n",
              "    .dataframe tbody tr th:only-of-type {\n",
              "        vertical-align: middle;\n",
              "    }\n",
              "\n",
              "    .dataframe tbody tr th {\n",
              "        vertical-align: top;\n",
              "    }\n",
              "\n",
              "    .dataframe thead th {\n",
              "        text-align: right;\n",
              "    }\n",
              "</style>\n",
              "<table border=\"1\" class=\"dataframe\">\n",
              "  <thead>\n",
              "    <tr style=\"text-align: right;\">\n",
              "      <th></th>\n",
              "      <th>GRE Score</th>\n",
              "      <th>TOEFL Score</th>\n",
              "      <th>University Rating</th>\n",
              "      <th>SOP</th>\n",
              "      <th>LOR</th>\n",
              "      <th>CGPA</th>\n",
              "      <th>Research_No</th>\n",
              "      <th>Research_Yes</th>\n",
              "    </tr>\n",
              "  </thead>\n",
              "  <tbody>\n",
              "    <tr>\n",
              "      <th>0</th>\n",
              "      <td>310</td>\n",
              "      <td>105</td>\n",
              "      <td>2</td>\n",
              "      <td>3.0</td>\n",
              "      <td>3.5</td>\n",
              "      <td>8.01</td>\n",
              "      <td>1</td>\n",
              "      <td>0</td>\n",
              "    </tr>\n",
              "    <tr>\n",
              "      <th>1</th>\n",
              "      <td>307</td>\n",
              "      <td>105</td>\n",
              "      <td>2</td>\n",
              "      <td>2.5</td>\n",
              "      <td>4.5</td>\n",
              "      <td>8.12</td>\n",
              "      <td>0</td>\n",
              "      <td>1</td>\n",
              "    </tr>\n",
              "    <tr>\n",
              "      <th>2</th>\n",
              "      <td>329</td>\n",
              "      <td>111</td>\n",
              "      <td>4</td>\n",
              "      <td>4.5</td>\n",
              "      <td>4.0</td>\n",
              "      <td>9.01</td>\n",
              "      <td>0</td>\n",
              "      <td>1</td>\n",
              "    </tr>\n",
              "    <tr>\n",
              "      <th>3</th>\n",
              "      <td>300</td>\n",
              "      <td>105</td>\n",
              "      <td>1</td>\n",
              "      <td>1.0</td>\n",
              "      <td>2.0</td>\n",
              "      <td>7.80</td>\n",
              "      <td>1</td>\n",
              "      <td>0</td>\n",
              "    </tr>\n",
              "    <tr>\n",
              "      <th>4</th>\n",
              "      <td>329</td>\n",
              "      <td>114</td>\n",
              "      <td>5</td>\n",
              "      <td>4.0</td>\n",
              "      <td>5.0</td>\n",
              "      <td>9.30</td>\n",
              "      <td>0</td>\n",
              "      <td>1</td>\n",
              "    </tr>\n",
              "    <tr>\n",
              "      <th>...</th>\n",
              "      <td>...</td>\n",
              "      <td>...</td>\n",
              "      <td>...</td>\n",
              "      <td>...</td>\n",
              "      <td>...</td>\n",
              "      <td>...</td>\n",
              "      <td>...</td>\n",
              "      <td>...</td>\n",
              "    </tr>\n",
              "    <tr>\n",
              "      <th>395</th>\n",
              "      <td>316</td>\n",
              "      <td>110</td>\n",
              "      <td>3</td>\n",
              "      <td>3.5</td>\n",
              "      <td>4.0</td>\n",
              "      <td>8.56</td>\n",
              "      <td>1</td>\n",
              "      <td>0</td>\n",
              "    </tr>\n",
              "    <tr>\n",
              "      <th>396</th>\n",
              "      <td>302</td>\n",
              "      <td>110</td>\n",
              "      <td>3</td>\n",
              "      <td>4.0</td>\n",
              "      <td>4.5</td>\n",
              "      <td>8.50</td>\n",
              "      <td>1</td>\n",
              "      <td>0</td>\n",
              "    </tr>\n",
              "    <tr>\n",
              "      <th>397</th>\n",
              "      <td>312</td>\n",
              "      <td>107</td>\n",
              "      <td>4</td>\n",
              "      <td>4.5</td>\n",
              "      <td>4.0</td>\n",
              "      <td>8.65</td>\n",
              "      <td>0</td>\n",
              "      <td>1</td>\n",
              "    </tr>\n",
              "    <tr>\n",
              "      <th>398</th>\n",
              "      <td>298</td>\n",
              "      <td>99</td>\n",
              "      <td>1</td>\n",
              "      <td>1.5</td>\n",
              "      <td>3.0</td>\n",
              "      <td>7.46</td>\n",
              "      <td>1</td>\n",
              "      <td>0</td>\n",
              "    </tr>\n",
              "    <tr>\n",
              "      <th>399</th>\n",
              "      <td>324</td>\n",
              "      <td>113</td>\n",
              "      <td>4</td>\n",
              "      <td>4.5</td>\n",
              "      <td>4.0</td>\n",
              "      <td>8.79</td>\n",
              "      <td>1</td>\n",
              "      <td>0</td>\n",
              "    </tr>\n",
              "  </tbody>\n",
              "</table>\n",
              "<p>400 rows × 8 columns</p>\n",
              "</div>"
            ],
            "text/plain": [
              "     GRE Score  TOEFL Score  University Rating  ...  CGPA  Research_No  Research_Yes\n",
              "0          310          105                  2  ...  8.01            1             0\n",
              "1          307          105                  2  ...  8.12            0             1\n",
              "2          329          111                  4  ...  9.01            0             1\n",
              "3          300          105                  1  ...  7.80            1             0\n",
              "4          329          114                  5  ...  9.30            0             1\n",
              "..         ...          ...                ...  ...   ...          ...           ...\n",
              "395        316          110                  3  ...  8.56            1             0\n",
              "396        302          110                  3  ...  8.50            1             0\n",
              "397        312          107                  4  ...  8.65            0             1\n",
              "398        298           99                  1  ...  7.46            1             0\n",
              "399        324          113                  4  ...  8.79            1             0\n",
              "\n",
              "[400 rows x 8 columns]"
            ]
          },
          "metadata": {
            "tags": []
          },
          "execution_count": 32
        }
      ]
    },
    {
      "cell_type": "markdown",
      "metadata": {
        "id": "ui-v6F_zikFt"
      },
      "source": [
        ""
      ]
    },
    {
      "cell_type": "code",
      "metadata": {
        "id": "8EHoXKvwLzoN"
      },
      "source": [
        "# 데이터를 train과 test로 분리하여 사용합니다.\n",
        "from sklearn.model_selection import train_test_split\n",
        "X_train, X_test, y_train, y_test = train_test_split(X, y, test_size=0.2, random_state=1234)"
      ],
      "execution_count": 33,
      "outputs": []
    },
    {
      "cell_type": "code",
      "metadata": {
        "id": "1NWnrQpALzoN",
        "colab": {
          "base_uri": "https://localhost:8080/"
        },
        "outputId": "34eba4ca-f6fd-44a5-aafe-f2cd70a3937e"
      },
      "source": [
        "# 각각의 크기 확인\n",
        "print(\"training predictors size:\", X_train.shape)\n",
        "print(\"training response size:\", y_train.shape)\n",
        "print(\"test predictors size:\", X_test.shape)\n",
        "print(\"test response size:\", y_test.shape)"
      ],
      "execution_count": 34,
      "outputs": [
        {
          "output_type": "stream",
          "text": [
            "training predictors size: (320, 8)\n",
            "training response size: (320,)\n",
            "test predictors size: (80, 8)\n",
            "test response size: (80,)\n"
          ],
          "name": "stdout"
        }
      ]
    },
    {
      "cell_type": "markdown",
      "metadata": {
        "id": "aL1jjly2LzoO"
      },
      "source": [
        "### 3.1. scikit-learn으로 선형 회귀"
      ]
    },
    {
      "cell_type": "code",
      "metadata": {
        "id": "ZiETNl1zLzoO"
      },
      "source": [
        "from sklearn.linear_model import LinearRegression"
      ],
      "execution_count": 35,
      "outputs": []
    },
    {
      "cell_type": "code",
      "metadata": {
        "id": "meo5SRoBLzoO",
        "colab": {
          "base_uri": "https://localhost:8080/"
        },
        "outputId": "c1eff033-02ee-49d1-f43f-ff4fd56adb47"
      },
      "source": [
        "# 1. 먼저 모델을 만들어 줍니다.\n",
        "model = LinearRegression()\n",
        "\n",
        "# 2. 모델을 적합시킵니다.\n",
        "model.fit(X_train, y_train)\n",
        "\n",
        "# 3. train 세트와 test 세트에서의 성능을 확인합니다. (이 경우 결정계수 R^2)\n",
        "print(\"Training R^2: %.4f\" % model.score(X_train, y_train))\n",
        "print(\"Testing R^2: %.4f\" % model.score(X_test, y_test))"
      ],
      "execution_count": 36,
      "outputs": [
        {
          "output_type": "stream",
          "text": [
            "Training R^2: 0.8260\n",
            "Testing R^2: 0.7729\n"
          ],
          "name": "stdout"
        }
      ]
    },
    {
      "cell_type": "markdown",
      "metadata": {
        "id": "fIMiipaoLzoO"
      },
      "source": [
        "#### 3.1.1. 모델의 MSE와 R^2를 구해봅시다."
      ]
    },
    {
      "cell_type": "code",
      "metadata": {
        "id": "cp7MbB5zLzoP"
      },
      "source": [
        "from sklearn.metrics import mean_squared_error, r2_score"
      ],
      "execution_count": 21,
      "outputs": []
    },
    {
      "cell_type": "code",
      "metadata": {
        "id": "Y-uqZTxKLzoP",
        "colab": {
          "base_uri": "https://localhost:8080/"
        },
        "outputId": "96d1dcf9-b53f-457d-a175-927ea381fdde"
      },
      "source": [
        "# 4. X_test로 y_pred를 만들어줍니다.\n",
        "## TODO\n",
        "y_pred = model.predict(X_test)\n",
        "print('MSE: %.4f' % mean_squared_error(y_test, y_pred))\n",
        "print('Variance score: %.4f' % r2_score(y_test, y_pred))"
      ],
      "execution_count": 37,
      "outputs": [
        {
          "output_type": "stream",
          "text": [
            "MSE: 0.0040\n",
            "Variance score: 0.7729\n"
          ],
          "name": "stdout"
        }
      ]
    },
    {
      "cell_type": "markdown",
      "metadata": {
        "id": "RENlNFn3LzoP"
      },
      "source": [
        "#### 3.1.2. 모델의 절편 계수를 확인해봅시다."
      ]
    },
    {
      "cell_type": "code",
      "metadata": {
        "id": "gjB76NUNLzoP",
        "colab": {
          "base_uri": "https://localhost:8080/"
        },
        "outputId": "d79c41d5-bb29-4ea2-8661-e5a76e2a6f4d"
      },
      "source": [
        "print(\"intercept:\", model.intercept_)"
      ],
      "execution_count": 38,
      "outputs": [
        {
          "output_type": "stream",
          "text": [
            "intercept: -1.2419421437018687\n"
          ],
          "name": "stdout"
        }
      ]
    },
    {
      "cell_type": "markdown",
      "metadata": {
        "id": "PtBtzTWALzoP"
      },
      "source": [
        "Q. 절편 계수의 의미는 무엇인가요?  \n",
        "A. 독립변수 값이 0일때 종속변수 값"
      ]
    },
    {
      "cell_type": "markdown",
      "metadata": {
        "id": "1k1Z3SYbLzoP"
      },
      "source": [
        "#### 3.1.3. 모델의 기울기 계수를 확인해 보세요."
      ]
    },
    {
      "cell_type": "code",
      "metadata": {
        "id": "QuL165twLzoQ",
        "colab": {
          "base_uri": "https://localhost:8080/",
          "height": 297
        },
        "outputId": "344e7024-41d9-4604-bb4d-11b557924e68"
      },
      "source": [
        "beta = pd.DataFrame(model.coef_, index=X_train.columns, columns=[\"slope\"])\n",
        "beta.sort_values(\"slope\")"
      ],
      "execution_count": 39,
      "outputs": [
        {
          "output_type": "execute_result",
          "data": {
            "text/html": [
              "<div>\n",
              "<style scoped>\n",
              "    .dataframe tbody tr th:only-of-type {\n",
              "        vertical-align: middle;\n",
              "    }\n",
              "\n",
              "    .dataframe tbody tr th {\n",
              "        vertical-align: top;\n",
              "    }\n",
              "\n",
              "    .dataframe thead th {\n",
              "        text-align: right;\n",
              "    }\n",
              "</style>\n",
              "<table border=\"1\" class=\"dataframe\">\n",
              "  <thead>\n",
              "    <tr style=\"text-align: right;\">\n",
              "      <th></th>\n",
              "      <th>slope</th>\n",
              "    </tr>\n",
              "  </thead>\n",
              "  <tbody>\n",
              "    <tr>\n",
              "      <th>Research_No</th>\n",
              "      <td>-0.013241</td>\n",
              "    </tr>\n",
              "    <tr>\n",
              "      <th>GRE Score</th>\n",
              "      <td>0.001640</td>\n",
              "    </tr>\n",
              "    <tr>\n",
              "      <th>University Rating</th>\n",
              "      <td>0.002748</td>\n",
              "    </tr>\n",
              "    <tr>\n",
              "      <th>TOEFL Score</th>\n",
              "      <td>0.003606</td>\n",
              "    </tr>\n",
              "    <tr>\n",
              "      <th>SOP</th>\n",
              "      <td>0.007253</td>\n",
              "    </tr>\n",
              "    <tr>\n",
              "      <th>Research_Yes</th>\n",
              "      <td>0.013241</td>\n",
              "    </tr>\n",
              "    <tr>\n",
              "      <th>LOR</th>\n",
              "      <td>0.017343</td>\n",
              "    </tr>\n",
              "    <tr>\n",
              "      <th>CGPA</th>\n",
              "      <td>0.112079</td>\n",
              "    </tr>\n",
              "  </tbody>\n",
              "</table>\n",
              "</div>"
            ],
            "text/plain": [
              "                      slope\n",
              "Research_No       -0.013241\n",
              "GRE Score          0.001640\n",
              "University Rating  0.002748\n",
              "TOEFL Score        0.003606\n",
              "SOP                0.007253\n",
              "Research_Yes       0.013241\n",
              "LOR                0.017343\n",
              "CGPA               0.112079"
            ]
          },
          "metadata": {
            "tags": []
          },
          "execution_count": 39
        }
      ]
    },
    {
      "cell_type": "markdown",
      "metadata": {
        "id": "iBS0dVQULzoQ"
      },
      "source": [
        "Q. 기울기 계수의 의미는 무엇인가요? 어떤 예측변인이 대학원 합격 확률과 유의미한 관계를 가지고 있으며 이것을 어떻게 해석할 수 있나요?  \n",
        "A. 계수가 양수면 + 상관관계를 가져 그 수치가 높을수록 대학원 진학률에 도움이 된다는 뜻이다. "
      ]
    },
    {
      "cell_type": "markdown",
      "metadata": {
        "id": "9PI6NLMCLzoQ"
      },
      "source": [
        "#### 3.1.4. 연속형 설명변수 중 하나를 골라 종속변수와의 관계를 scatter plot으로 그려 보세요."
      ]
    },
    {
      "cell_type": "code",
      "metadata": {
        "scrolled": true,
        "id": "AWSYGxUDLzoQ",
        "colab": {
          "base_uri": "https://localhost:8080/",
          "height": 283
        },
        "outputId": "d44c07cf-cdab-4dd0-de2f-a0d1f5db98dc"
      },
      "source": [
        "sns.scatterplot(x=\"University Rating\", y='Chance of Admit', data=df)\n",
        "plt.show()"
      ],
      "execution_count": 45,
      "outputs": [
        {
          "output_type": "display_data",
          "data": {
            "image/png": "[encoded data removed]",
            "text/plain": [
              "<Figure size 432x288 with 1 Axes>"
            ]
          },
          "metadata": {
            "tags": [],
            "needs_background": "light"
          }
        }
      ]
    },
    {
      "cell_type": "markdown",
      "metadata": {
        "id": "6Tmr_FxuLzoQ"
      },
      "source": [
        "#### 3.1.5. 범주형 설명변수와 종속변수의 관계를 box plot으로 그려 보세요."
      ]
    },
    {
      "cell_type": "code",
      "metadata": {
        "scrolled": true,
        "id": "7FBIR7INLzoQ",
        "colab": {
          "base_uri": "https://localhost:8080/",
          "height": 284
        },
        "outputId": "d0ecb8ce-0071-4dfb-a4ee-bb0dfc291245"
      },
      "source": [
        "sns.boxplot(x=\"Research_Yes\", y='Chance of Admit', data=df)\n",
        "plt.show()"
      ],
      "execution_count": 43,
      "outputs": [
        {
          "output_type": "display_data",
          "data": {
            "image/png": "[encoded data removed]",
            "text/plain": [
              "<Figure size 432x288 with 1 Axes>"
            ]
          },
          "metadata": {
            "tags": [],
            "needs_background": "light"
          }
        }
      ]
    },
    {
      "cell_type": "markdown",
      "metadata": {
        "id": "2rTH7VlnLzoR"
      },
      "source": [
        "### 3.2. StatsModels로 선형 회귀 시행하기"
      ]
    },
    {
      "cell_type": "code",
      "metadata": {
        "id": "c6uzmVC5LzoR"
      },
      "source": [
        "import statsmodels.api as sm"
      ],
      "execution_count": 46,
      "outputs": []
    },
    {
      "cell_type": "code",
      "metadata": {
        "scrolled": false,
        "id": "9hqrkhXrLzoR",
        "colab": {
          "base_uri": "https://localhost:8080/",
          "height": 604
        },
        "outputId": "4afc3660-f886-46c8-a53e-f1be0287e9f6"
      },
      "source": [
        "model = sm.OLS(y_train, X_train)\n",
        "results = model.fit()\n",
        "results.summary()"
      ],
      "execution_count": 47,
      "outputs": [
        {
          "output_type": "execute_result",
          "data": {
            "text/html": [
              "<table class=\"simpletable\">\n",
              "<caption>OLS Regression Results</caption>\n",
              "<tr>\n",
              "  <th>Dep. Variable:</th>     <td>Chance of Admit</td> <th>  R-squared:         </th> <td>   0.826</td> \n",
              "</tr>\n",
              "<tr>\n",
              "  <th>Model:</th>                   <td>OLS</td>       <th>  Adj. R-squared:    </th> <td>   0.822</td> \n",
              "</tr>\n",
              "<tr>\n",
              "  <th>Method:</th>             <td>Least Squares</td>  <th>  F-statistic:       </th> <td>   211.6</td> \n",
              "</tr>\n",
              "<tr>\n",
              "  <th>Date:</th>             <td>Sun, 15 Aug 2021</td> <th>  Prob (F-statistic):</th> <td>1.99e-114</td>\n",
              "</tr>\n",
              "<tr>\n",
              "  <th>Time:</th>                 <td>16:08:16</td>     <th>  Log-Likelihood:    </th> <td>  449.18</td> \n",
              "</tr>\n",
              "<tr>\n",
              "  <th>No. Observations:</th>      <td>   320</td>      <th>  AIC:               </th> <td>  -882.4</td> \n",
              "</tr>\n",
              "<tr>\n",
              "  <th>Df Residuals:</th>          <td>   312</td>      <th>  BIC:               </th> <td>  -852.2</td> \n",
              "</tr>\n",
              "<tr>\n",
              "  <th>Df Model:</th>              <td>     7</td>      <th>                     </th>     <td> </td>    \n",
              "</tr>\n",
              "<tr>\n",
              "  <th>Covariance Type:</th>      <td>nonrobust</td>    <th>                     </th>     <td> </td>    \n",
              "</tr>\n",
              "</table>\n",
              "<table class=\"simpletable\">\n",
              "<tr>\n",
              "          <td></td>             <th>coef</th>     <th>std err</th>      <th>t</th>      <th>P>|t|</th>  <th>[0.025</th>    <th>0.975]</th>  \n",
              "</tr>\n",
              "<tr>\n",
              "  <th>GRE Score</th>         <td>    0.0016</td> <td>    0.001</td> <td>    2.571</td> <td> 0.011</td> <td>    0.000</td> <td>    0.003</td>\n",
              "</tr>\n",
              "<tr>\n",
              "  <th>TOEFL Score</th>       <td>    0.0036</td> <td>    0.001</td> <td>    3.161</td> <td> 0.002</td> <td>    0.001</td> <td>    0.006</td>\n",
              "</tr>\n",
              "<tr>\n",
              "  <th>University Rating</th> <td>    0.0027</td> <td>    0.005</td> <td>    0.582</td> <td> 0.561</td> <td>   -0.007</td> <td>    0.012</td>\n",
              "</tr>\n",
              "<tr>\n",
              "  <th>SOP</th>               <td>    0.0073</td> <td>    0.006</td> <td>    1.273</td> <td> 0.204</td> <td>   -0.004</td> <td>    0.018</td>\n",
              "</tr>\n",
              "<tr>\n",
              "  <th>LOR</th>               <td>    0.0173</td> <td>    0.005</td> <td>    3.391</td> <td> 0.001</td> <td>    0.007</td> <td>    0.027</td>\n",
              "</tr>\n",
              "<tr>\n",
              "  <th>CGPA</th>              <td>    0.1121</td> <td>    0.012</td> <td>    9.237</td> <td> 0.000</td> <td>    0.088</td> <td>    0.136</td>\n",
              "</tr>\n",
              "<tr>\n",
              "  <th>Research_No</th>       <td>   -1.2552</td> <td>    0.132</td> <td>   -9.498</td> <td> 0.000</td> <td>   -1.515</td> <td>   -0.995</td>\n",
              "</tr>\n",
              "<tr>\n",
              "  <th>Research_Yes</th>      <td>   -1.2287</td> <td>    0.136</td> <td>   -9.065</td> <td> 0.000</td> <td>   -1.495</td> <td>   -0.962</td>\n",
              "</tr>\n",
              "</table>\n",
              "<table class=\"simpletable\">\n",
              "<tr>\n",
              "  <th>Omnibus:</th>       <td>72.061</td> <th>  Durbin-Watson:     </th> <td>   1.968</td>\n",
              "</tr>\n",
              "<tr>\n",
              "  <th>Prob(Omnibus):</th> <td> 0.000</td> <th>  Jarque-Bera (JB):  </th> <td> 163.598</td>\n",
              "</tr>\n",
              "<tr>\n",
              "  <th>Skew:</th>          <td>-1.110</td> <th>  Prob(JB):          </th> <td>2.99e-36</td>\n",
              "</tr>\n",
              "<tr>\n",
              "  <th>Kurtosis:</th>      <td> 5.710</td> <th>  Cond. No.          </th> <td>1.88e+04</td>\n",
              "</tr>\n",
              "</table><br/><br/>Warnings:<br/>[1] Standard Errors assume that the covariance matrix of the errors is correctly specified.<br/>[2] The condition number is large, 1.88e+04. This might indicate that there are<br/>strong multicollinearity or other numerical problems."
            ],
            "text/plain": [
              "<class 'statsmodels.iolib.summary.Summary'>\n",
              "\"\"\"\n",
              "                            OLS Regression Results                            \n",
              "==============================================================================\n",
              "Dep. Variable:        Chance of Admit   R-squared:                       0.826\n",
              "Model:                            OLS   Adj. R-squared:                  0.822\n",
              "Method:                 Least Squares   F-statistic:                     211.6\n",
              "Date:                Sun, 15 Aug 2021   Prob (F-statistic):          1.99e-114\n",
              "Time:                        16:08:16   Log-Likelihood:                 449.18\n",
              "No. Observations:                 320   AIC:                            -882.4\n",
              "Df Residuals:                     312   BIC:                            -852.2\n",
              "Df Model:                           7                                         \n",
              "Covariance Type:            nonrobust                                         \n",
              "=====================================================================================\n",
              "                        coef    std err          t      P>|t|      [0.025      0.975]\n",
              "-------------------------------------------------------------------------------------\n",
              "GRE Score             0.0016      0.001      2.571      0.011       0.000       0.003\n",
              "TOEFL Score           0.0036      0.001      3.161      0.002       0.001       0.006\n",
              "University Rating     0.0027      0.005      0.582      0.561      -0.007       0.012\n",
              "SOP                   0.0073      0.006      1.273      0.204      -0.004       0.018\n",
              "LOR                   0.0173      0.005      3.391      0.001       0.007       0.027\n",
              "CGPA                  0.1121      0.012      9.237      0.000       0.088       0.136\n",
              "Research_No          -1.2552      0.132     -9.498      0.000      -1.515      -0.995\n",
              "Research_Yes         -1.2287      0.136     -9.065      0.000      -1.495      -0.962\n",
              "==============================================================================\n",
              "Omnibus:                       72.061   Durbin-Watson:                   1.968\n",
              "Prob(Omnibus):                  0.000   Jarque-Bera (JB):              163.598\n",
              "Skew:                          -1.110   Prob(JB):                     2.99e-36\n",
              "Kurtosis:                       5.710   Cond. No.                     1.88e+04\n",
              "==============================================================================\n",
              "\n",
              "Warnings:\n",
              "[1] Standard Errors assume that the covariance matrix of the errors is correctly specified.\n",
              "[2] The condition number is large, 1.88e+04. This might indicate that there are\n",
              "strong multicollinearity or other numerical problems.\n",
              "\"\"\""
            ]
          },
          "metadata": {
            "tags": []
          },
          "execution_count": 47
        }
      ]
    },
    {
      "cell_type": "markdown",
      "metadata": {
        "id": "Vsmwmmn2LzoR"
      },
      "source": [
        "Q. R^2와 F-statistic을 고려해 볼 때, 이 모델은 좋은 모델이라고 볼 수 있나요?  \n",
        "A. 82%를 설명할 수 있어 나쁘지 않은 모델이다. "
      ]
    },
    {
      "cell_type": "markdown",
      "metadata": {
        "id": "BnbzqDp-LzoR"
      },
      "source": [
        "Q. 계수에 대한 가설 검정 결과를 바탕으로 'University Rating'이 대학원 합격률에 미치는 영향을 어떻게 해석할 수 있을까요?  \n",
        "A. P 수치가 0.05 보다 커 유의미하다고 보기 힘들다"
      ]
    },
    {
      "cell_type": "markdown",
      "metadata": {
        "id": "NMeP1XG_LzoS"
      },
      "source": [
        "# 4. Ridge, Lasso 회귀"
      ]
    },
    {
      "cell_type": "markdown",
      "metadata": {
        "id": "L2s42qvnLzoS"
      },
      "source": [
        "이번에는 scikit-learn으로 Ridge와 Lasso를 시도해 보세요.  \n",
        "**가장 적절한 수준의 alpha를 찾아 모델에 적용해 보세요.**  \n",
        "(힌트: cross-validation을 사용하세요.)  \n",
        "(참고자료:\n",
        "https://scikit-learn.org/stable/modules/generated/sklearn.linear_model.RidgeCV.html  \n",
        "https://scikit-learn.org/stable/modules/generated/sklearn.linear_model.LassoCV.html)"
      ]
    },
    {
      "cell_type": "code",
      "metadata": {
        "id": "Kwg6rP8eLzoS",
        "colab": {
          "base_uri": "https://localhost:8080/"
        },
        "outputId": "c0ade725-fcff-4bab-bc3c-f17382ac3aca"
      },
      "source": [
        "from sklearn.linear_model import RidgeCV\n",
        "\n",
        "# 1. 먼저 모델을 만들어 줍니다.\n",
        "ridge = RidgeCV(alphas=[1e-5, 1e-4, 1e-3, 1e-2, 1e-1, 1, 2, 5], cv=5)\n",
        "\n",
        "# 2. 모델을 적합시킵니다.\n",
        "ridge.fit(X_train, y_train)\n",
        "\n",
        "# 3. train 세트와 test 세트에서의 성능을 확인합니다. (이 경우 결정계수 R^2)\n",
        "print(\"Training R^2: %.4f\" % ridge.score(X_train, y_train))\n",
        "print(\"Testing R^2: %.4f\" % ridge.score(X_test, y_test))"
      ],
      "execution_count": 48,
      "outputs": [
        {
          "output_type": "stream",
          "text": [
            "Training R^2: 0.8257\n",
            "Testing R^2: 0.7692\n"
          ],
          "name": "stdout"
        }
      ]
    },
    {
      "cell_type": "code",
      "metadata": {
        "id": "c2YiywA_LzoS",
        "colab": {
          "base_uri": "https://localhost:8080/"
        },
        "outputId": "34f254d7-e1c4-456b-af8c-7b781289f179"
      },
      "source": [
        "from sklearn.linear_model import LassoCV\n",
        "\n",
        "# 1. 먼저 모델을 만들어 줍니다.\n",
        "lasso = LassoCV(alphas=[1e-5, 1e-4, 1e-3, 1e-2, 1e-1, 1, 2, 5], cv=5)\n",
        "\n",
        "# 2. 모델을 적합시킵니다.\n",
        "lasso.fit(X_train, y_train)\n",
        "\n",
        "# 3. train 세트와 test 세트에서의 성능을 확인합니다. (이 경우 결정계수 R^2)\n",
        "print(\"Training R^2: %.4f\" % lasso.score(X_train, y_train))\n",
        "print(\"Testing R^2: %.4f\" % lasso.score(X_test, y_test))"
      ],
      "execution_count": 49,
      "outputs": [
        {
          "output_type": "stream",
          "text": [
            "Training R^2: 0.8260\n",
            "Testing R^2: 0.7727\n"
          ],
          "name": "stdout"
        }
      ]
    },
    {
      "cell_type": "code",
      "metadata": {
        "colab": {
          "base_uri": "https://localhost:8080/",
          "height": 204
        },
        "id": "uFNZ9gBQle_b",
        "outputId": "a1596b05-dda5-4f12-e3c0-541cddeba99d"
      },
      "source": [
        "test_dum = pd.get_dummies(test)\n",
        "test_dum.head()"
      ],
      "execution_count": 53,
      "outputs": [
        {
          "output_type": "execute_result",
          "data": {
            "text/html": [
              "<div>\n",
              "<style scoped>\n",
              "    .dataframe tbody tr th:only-of-type {\n",
              "        vertical-align: middle;\n",
              "    }\n",
              "\n",
              "    .dataframe tbody tr th {\n",
              "        vertical-align: top;\n",
              "    }\n",
              "\n",
              "    .dataframe thead th {\n",
              "        text-align: right;\n",
              "    }\n",
              "</style>\n",
              "<table border=\"1\" class=\"dataframe\">\n",
              "  <thead>\n",
              "    <tr style=\"text-align: right;\">\n",
              "      <th></th>\n",
              "      <th>GRE Score</th>\n",
              "      <th>TOEFL Score</th>\n",
              "      <th>University Rating</th>\n",
              "      <th>SOP</th>\n",
              "      <th>LOR</th>\n",
              "      <th>CGPA</th>\n",
              "      <th>Research_No</th>\n",
              "      <th>Research_Yes</th>\n",
              "    </tr>\n",
              "  </thead>\n",
              "  <tbody>\n",
              "    <tr>\n",
              "      <th>0</th>\n",
              "      <td>304</td>\n",
              "      <td>103</td>\n",
              "      <td>5</td>\n",
              "      <td>5.0</td>\n",
              "      <td>4.0</td>\n",
              "      <td>8.64</td>\n",
              "      <td>1</td>\n",
              "      <td>0</td>\n",
              "    </tr>\n",
              "    <tr>\n",
              "      <th>1</th>\n",
              "      <td>297</td>\n",
              "      <td>96</td>\n",
              "      <td>2</td>\n",
              "      <td>2.5</td>\n",
              "      <td>1.5</td>\n",
              "      <td>7.89</td>\n",
              "      <td>1</td>\n",
              "      <td>0</td>\n",
              "    </tr>\n",
              "    <tr>\n",
              "      <th>2</th>\n",
              "      <td>302</td>\n",
              "      <td>101</td>\n",
              "      <td>2</td>\n",
              "      <td>2.5</td>\n",
              "      <td>3.5</td>\n",
              "      <td>7.96</td>\n",
              "      <td>1</td>\n",
              "      <td>0</td>\n",
              "    </tr>\n",
              "    <tr>\n",
              "      <th>3</th>\n",
              "      <td>318</td>\n",
              "      <td>112</td>\n",
              "      <td>3</td>\n",
              "      <td>4.0</td>\n",
              "      <td>3.5</td>\n",
              "      <td>8.67</td>\n",
              "      <td>1</td>\n",
              "      <td>0</td>\n",
              "    </tr>\n",
              "    <tr>\n",
              "      <th>4</th>\n",
              "      <td>304</td>\n",
              "      <td>100</td>\n",
              "      <td>4</td>\n",
              "      <td>1.5</td>\n",
              "      <td>2.5</td>\n",
              "      <td>7.84</td>\n",
              "      <td>1</td>\n",
              "      <td>0</td>\n",
              "    </tr>\n",
              "  </tbody>\n",
              "</table>\n",
              "</div>"
            ],
            "text/plain": [
              "   GRE Score  TOEFL Score  University Rating  ...  CGPA  Research_No  Research_Yes\n",
              "0        304          103                  5  ...  8.64            1             0\n",
              "1        297           96                  2  ...  7.89            1             0\n",
              "2        302          101                  2  ...  7.96            1             0\n",
              "3        318          112                  3  ...  8.67            1             0\n",
              "4        304          100                  4  ...  7.84            1             0\n",
              "\n",
              "[5 rows x 8 columns]"
            ]
          },
          "metadata": {
            "tags": []
          },
          "execution_count": 53
        }
      ]
    },
    {
      "cell_type": "code",
      "metadata": {
        "id": "bWZgDckoluMr"
      },
      "source": [
        "predict = pd.DataFrame(lasso.predict(test_dum), columns=['Chance of Admit'])\n",
        "predict.to_csv('graduate_submission.csv')"
      ],
      "execution_count": 54,
      "outputs": []
    }
  ]
}